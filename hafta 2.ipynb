{
 "cells": [
  {
   "cell_type": "code",
   "execution_count": 10,
   "metadata": {},
   "outputs": [],
   "source": [
    "import ctypes"
   ]
  },
  {
   "cell_type": "code",
   "execution_count": 60,
   "metadata": {},
   "outputs": [],
   "source": [
    "class DynamicArray:\n",
    "    \n",
    "    def __init__(self):\n",
    "        self._n=0# count actual elements\n",
    "        self._capacity = 1# default array capacity\n",
    "        self._A=self.makearray(self._capacity)\n",
    "        \n",
    "    def __len__(self):\n",
    "        return self._n\n",
    "    \n",
    "    def __getitem__(self,k):\n",
    "        \n",
    "        if not 0<= k < self._n:\n",
    "            raise IndexError('invalid index')\n",
    "        return self._A[k]\n",
    "    def append(self,obj):\n",
    "        \n",
    "        if self._n==self._capacity:# not enough room\n",
    "            self.resize(2 * self._capacity)# so double capacity\n",
    "        self._A[self._n] = obj\n",
    "        self._n+=1\n",
    "        print(\"OKA\")\n",
    "            \n",
    "    def resize(self,c):\n",
    "        # nonpublic utitity\n",
    "        print(\"worst-case list full\")\n",
    "        print(\"n*2lik yerden tasima yapilacak\")\n",
    "        B=self.makearray(c)# new (bigger) array\n",
    "        for k in range(self._n):# for each existing value\n",
    "            B[k] =self._A[k]\n",
    "        self._A=B# use the bigger array\n",
    "        self._capacity = c\n",
    "    def makearray(self,c):\n",
    "        # nonpublic utitity\n",
    "        \n",
    "        return(c * ctypes.py_object)()\n",
    "    \n",
    "    def getLength(self):\n",
    "        return self.__len__()"
   ]
  },
  {
   "cell_type": "code",
   "execution_count": 61,
   "metadata": {},
   "outputs": [
    {
     "name": "stdout",
     "output_type": "stream",
     "text": [
      "OKA\n",
      "worst-case list full\n",
      "n*2lik yerden tasima yapilacak\n",
      "OKA\n",
      "worst-case list full\n",
      "n*2lik yerden tasima yapilacak\n",
      "OKA\n",
      "OKA\n",
      "worst-case list full\n",
      "n*2lik yerden tasima yapilacak\n",
      "OKA\n",
      "OKA\n",
      "OKA\n",
      "OKA\n",
      "worst-case list full\n",
      "n*2lik yerden tasima yapilacak\n",
      "OKA\n",
      "OKA\n",
      "OKA\n",
      "OKA\n",
      "OKA\n",
      "OKA\n",
      "length:  14\n"
     ]
    }
   ],
   "source": [
    "c = DynamicArray()\n",
    "for i in range(10):\n",
    "    c.append(str(i))\n",
    "#print(\"length: \", c.getLength())\n",
    "c.append(\"qasdasd\")\n",
    "c.append(\"qasasd\")\n",
    "c.append(\"qassd\")\n",
    "c.append(\"qasda\")\n",
    "print(\"length: \", c.__len__())"
   ]
  }
 ],
 "metadata": {
  "kernelspec": {
   "display_name": "Python 3",
   "language": "python",
   "name": "python3"
  },
  "language_info": {
   "codemirror_mode": {
    "name": "ipython",
    "version": 3
   },
   "file_extension": ".py",
   "mimetype": "text/x-python",
   "name": "python",
   "nbconvert_exporter": "python",
   "pygments_lexer": "ipython3",
   "version": "3.5.6"
  }
 },
 "nbformat": 4,
 "nbformat_minor": 2
}
